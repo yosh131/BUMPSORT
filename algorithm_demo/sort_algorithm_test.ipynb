{
 "cells": [
  {
   "cell_type": "markdown",
   "metadata": {},
   "source": [
    "# ソートアルゴリズムをJavaScript実装の前に検証\n",
    "### 性能テストと微調整\n"
   ]
  },
  {
   "cell_type": "markdown",
   "metadata": {},
   "source": [
    "#### Quick Select + Merge-Insertion Sort"
   ]
  },
  {
   "cell_type": "code",
   "execution_count": 1,
   "metadata": {},
   "outputs": [],
   "source": [
    "import numpy as np\n",
    "import random\n"
   ]
  },
  {
   "cell_type": "code",
   "execution_count": 48,
   "metadata": {},
   "outputs": [],
   "source": [
    "cnt = 0\n",
    "def cmp_func(x,y):\n",
    "    global cnt\n",
    "    cnt += 1\n",
    "    return (x>y)\n",
    "\n",
    "def partition(arr, left, right, pivotIndex, cmp_func):\n",
    "    pivotVal = arr[pivotIndex]\n",
    "    arr[pivotIndex],arr[right] = arr[right], arr[pivotIndex]\n",
    "    storeIndex = left\n",
    "    for i in range(left, right):\n",
    "        if cmp_func(arr[i], pivotVal):\n",
    "            arr[storeIndex], arr[i] = arr[i], arr[storeIndex]\n",
    "            storeIndex += 1\n",
    "    arr[right], arr[storeIndex] = arr[storeIndex], arr[right]\n",
    "    return storeIndex\n",
    "\n",
    "def select(arr, k, left, right, cmp_func):\n",
    "    pivotIndex = select_pivot_idx(arr, left, right, cmp_func)\n",
    "    print(\"Select: \", arr[left:right+1], k, arr[pivotIndex])\n",
    "    pivotNewIndex = partition(arr, left, right, pivotIndex, cmp_func)\n",
    "    # print(\"Partition: \", arr[left:right+1], k, pivotNewIndex)\n",
    "    if k==pivotNewIndex or k+1==pivotNewIndex:\n",
    "        return arr[:k+1]\n",
    "    elif k < pivotNewIndex: #パーティションの左側\n",
    "        return select(arr, k, left, pivotNewIndex-1, cmp_func)\n",
    "    else: # パーティションの右側\n",
    "        return select(arr, k, pivotNewIndex+1, right, cmp_func)\n",
    "    \n",
    "def select_pivot_idx(arr, left, right, cmp_func):\n",
    "    if right-left+1 < 3:\n",
    "        return arr[0]\n",
    "    else:\n",
    "        x = arr[left:left+3]\n",
    "        if cmp_func(x[0], x[1]):\n",
    "            if cmp_func(x[1], x[2]):\n",
    "                return left+1\n",
    "            elif cmp_func(x[0], x[2]):\n",
    "                return left+2\n",
    "            else:\n",
    "                return left\n",
    "        else:\n",
    "            if cmp_func(x[0], x[2]):\n",
    "                return left\n",
    "            elif cmp_func(x[1], x[2]):\n",
    "                return left+2\n",
    "            else:\n",
    "                return left+1\n",
    "\n",
    "\n"
   ]
  },
  {
   "cell_type": "code",
   "execution_count": 57,
   "metadata": {},
   "outputs": [
    {
     "name": "stdout",
     "output_type": "stream",
     "text": [
      "Original arr: [15, 13, 24, 28, 10, 4, 1, 2, 8, 27, 26, 22, 29, 25, 6, 9, 7, 23, 3, 12, 11, 17, 0, 18, 21, 16, 20, 5, 19, 14]\n",
      "[15, 13, 24, 28, 10, 4, 1, 2, 8, 27, 26, 22, 29, 25, 6, 9, 7, 23, 3, 12, 11, 17, 0, 18, 21, 16, 20, 5, 19, 14] 0\n",
      "Select:  [15, 13, 24, 28, 10, 4, 1, 2, 8, 27, 26, 22, 29, 25, 6, 9, 7, 23, 3, 12, 11, 17, 0, 18, 21, 16, 20, 5, 19, 14] 9 15\n",
      "Select:  [24, 28, 27, 26, 22, 29, 25, 23, 17, 18, 21, 16, 20, 19] 9 27\n",
      "Select:  [26, 22, 24, 25, 23, 17, 18, 21, 16, 20, 19] 9 24\n",
      "Select:  [22, 23, 17, 18, 21, 16, 20, 19] 9 22\n",
      "Select:  [17, 18, 21, 16, 20, 19] 9 18\n",
      "Select:  [19, 21, 20] 9 20\n",
      "[28, 29, 27, 26, 25, 24, 23, 22, 21, 20, 19, 18, 17, 16, 15, 9, 7, 2, 3, 12, 11, 8, 0, 14, 13, 10, 4, 5, 1, 6] 83\n"
     ]
    }
   ],
   "source": [
    "N = 30\n",
    "K = 10\n",
    "cnt = 0\n",
    "# arr =  [9, 2, 5, 7, 8, 6, 0, 3, 4, 1]\n",
    "arr = list(range(N))\n",
    "random.shuffle(arr)\n",
    "print(\"Original arr:\",arr)\n",
    "\n",
    "print(arr, cnt)\n",
    "# idx = partition(arr, 0, N-1, 0, cmp_func)\n",
    "sub_arr = select(arr, K-1, 0, N-1, cmp_func)\n",
    "print(arr, cnt)"
   ]
  },
  {
   "cell_type": "code",
   "execution_count": null,
   "metadata": {},
   "outputs": [],
   "source": []
  },
  {
   "cell_type": "code",
   "execution_count": null,
   "metadata": {},
   "outputs": [],
   "source": []
  },
  {
   "cell_type": "code",
   "execution_count": 64,
   "metadata": {},
   "outputs": [
    {
     "name": "stdout",
     "output_type": "stream",
     "text": [
      "Original arr: [14, 9, 15, 12, 26, 3, 22, 8, 18, 10, 17, 24, 11, 19, 20, 29, 25, 7, 23, 13, 6, 5, 1, 0, 16, 28, 4, 21, 27, 2]\n",
      "[14, 9, 15, 12, 26, 3, 22, 8, 18, 10, 17, 24, 11, 19, 20, 29, 25, 7, 23, 13, 6, 5, 1, 0, 16, 28, 4, 21, 27, 2] 108\n"
     ]
    }
   ],
   "source": [
    "# Implementation of the Merge Insertion sort algorithm\n",
    "# -- a sort algorithm that is efficient w.r.t. number of pairwise comparisons\n",
    "# based on the description in\n",
    "# https://en.wikipedia.org/w/index.php?title=Merge-insertion_sort&oldid=959884881\n",
    "# This is not intended to be time- or space-efficient.\n",
    "# \"less\" is a function such that less(x,y) is true iff x should go to the left of y\n",
    "# Dominik Peters, August 2020\n",
    "\n",
    "# imports only needed for test at the bottom\n",
    "from __future__ import print_function\n",
    "import itertools\n",
    "\n",
    "def binary_insert(seq, x, less):\n",
    "    possible_positions = range(len(seq) + 1)\n",
    "    L, R = 0, possible_positions[-1]\n",
    "    while len(possible_positions) > 1:\n",
    "        m = (L + R)//2\n",
    "        if less(x, seq[m]):\n",
    "            R = m\n",
    "        else:\n",
    "            L = m+1\n",
    "        possible_positions = [p for p in possible_positions if L <= p <= R]\n",
    "    return possible_positions[0]\n",
    "\n",
    "def merge_insertion(seq, less):\n",
    "    if len(seq) <= 1:\n",
    "        return seq\n",
    "    pairs = []\n",
    "    for x1, x2 in zip(seq[::2], seq[1::2]):\n",
    "        if less(x1, x2):\n",
    "            pairs.append((x1, x2))\n",
    "        else:\n",
    "            pairs.append((x2, x1))\n",
    "    # sort pairs by their large element\n",
    "    pairs = merge_insertion(pairs, less=lambda a,b : less(a[1], b[1]))\n",
    "    out = [x2 for x1, x2 in pairs]\n",
    "    remaining = pairs[:]\n",
    "    if len(seq) % 2 == 1:\n",
    "        remaining.append((seq[-1], \"END\"))\n",
    "    out.insert(0, remaining.pop(0)[0])\n",
    "    # reorder remaining\n",
    "    buckets = [2, 2]\n",
    "    power_of_2 = 4\n",
    "    while sum(buckets) < len(remaining):\n",
    "        power_of_2 *= 2\n",
    "        buckets.append(power_of_2 - buckets[-1])\n",
    "    reordered = []\n",
    "    last_index = 0\n",
    "    for bucket in buckets:\n",
    "        reordered += reversed(remaining[last_index:last_index+bucket])\n",
    "        last_index += bucket\n",
    "    for y, x in reordered:\n",
    "        if x == \"END\":\n",
    "            # insert unpaired element\n",
    "            out.insert(binary_insert(out, y, less), y)\n",
    "        else:\n",
    "            # insert y in out by binary search up to but not including out.index(x)\n",
    "            out.insert(binary_insert(out[:out.index(x)], y, less), y)\n",
    "    return out\n",
    "\n",
    "# test by calculating worst-case number of comparisons\n",
    "counter = 0\n",
    "def count(x,y):\n",
    "    global counter\n",
    "    counter += 1\n",
    "    return x < y\n",
    "\n",
    "N = 30\n",
    "K = 10\n",
    "cnt = 0\n",
    "# arr =  [9, 2, 5, 7, 8, 6, 0, 3, 4, 1]\n",
    "arr = list(range(N))\n",
    "random.shuffle(arr)\n",
    "print(\"Original arr:\",arr)\n",
    "merge_insertion(arr, count)\n",
    "print(arr, counter)\n",
    "\n",
    "# worsts = []\n",
    "# for m in range(9):\n",
    "#     worst = 0\n",
    "#     for perm in itertools.permutations(range(m)):\n",
    "#         counter = 0\n",
    "#         assert list(merge_insertion(perm, less=count)) == list(range(m))\n",
    "#         worst = max(worst, counter)\n",
    "#     worsts.append(worst)\n",
    "# print(worsts) # yields [0, 0, 1, 3, 5, 7, 10, 13, 16]"
   ]
  }
 ],
 "metadata": {
  "kernelspec": {
   "display_name": "venv",
   "language": "python",
   "name": "python3"
  },
  "language_info": {
   "codemirror_mode": {
    "name": "ipython",
    "version": 3
   },
   "file_extension": ".py",
   "mimetype": "text/x-python",
   "name": "python",
   "nbconvert_exporter": "python",
   "pygments_lexer": "ipython3",
   "version": "3.8.10"
  }
 },
 "nbformat": 4,
 "nbformat_minor": 2
}
