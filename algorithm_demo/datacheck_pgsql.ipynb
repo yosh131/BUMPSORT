{
 "cells": [
  {
   "cell_type": "markdown",
   "metadata": {},
   "source": []
  },
  {
   "cell_type": "code",
   "execution_count": 13,
   "metadata": {},
   "outputs": [
    {
     "name": "stdout",
     "output_type": "stream",
     "text": [
      "(1, '921624b317b704be862a0ad95f9eeb419b4a4d83bcb39a3a4ff21c7d17517afe', ' Sphery Randevouz で聴きたい曲', 3, 'アルエ', 'FLAME VEIN', 1, '127.0.0.1', datetime.datetime(2024, 9, 3, 21, 36, 58), 2)\n",
      "(2, '921624b317b704be862a0ad95f9eeb419b4a4d83bcb39a3a4ff21c7d17517afe', ' Sphery Randevouz で聴きたい曲', 1, 'ガラスのブルース', 'FLAME VEIN', 2, '127.0.0.1', datetime.datetime(2024, 9, 3, 21, 36, 58), 2)\n",
      "(3, '921624b317b704be862a0ad95f9eeb419b4a4d83bcb39a3a4ff21c7d17517afe', ' Sphery Randevouz で聴きたい曲', 2, 'くだらない唄', 'FLAME VEIN', 3, '127.0.0.1', datetime.datetime(2024, 9, 3, 21, 36, 58), 2)\n",
      "(4, 'b3128a9096b0d8e25928c316c88f696b7d871368cae677ef0cb0dd0d0f82b945', ' Sphery Randevouz で聴きたい曲', 2, 'くだらない唄', 'FLAME VEIN', 1, '127.0.0.1', datetime.datetime(2024, 9, 3, 21, 47, 9), 2)\n",
      "(5, 'b3128a9096b0d8e25928c316c88f696b7d871368cae677ef0cb0dd0d0f82b945', ' Sphery Randevouz で聴きたい曲', 1, 'ガラスのブルース', 'FLAME VEIN', 2, '127.0.0.1', datetime.datetime(2024, 9, 3, 21, 47, 9), 2)\n",
      "(6, 'b3128a9096b0d8e25928c316c88f696b7d871368cae677ef0cb0dd0d0f82b945', ' Sphery Randevouz で聴きたい曲', 3, 'アルエ', 'FLAME VEIN', 3, '127.0.0.1', datetime.datetime(2024, 9, 3, 21, 47, 9), 2)\n"
     ]
    }
   ],
   "source": [
    "import psycopg2\n",
    "import os\n",
    "from dotenv import load_dotenv\n",
    "\n",
    "# .envファイルを読み込み\n",
    "load_dotenv()\n",
    "\n",
    "# DB操作用の環境変数を取得\n",
    "dbname = os.getenv(\"DATABASE_NAME\")\n",
    "user = os.getenv(\"DATABASE_USER\")\n",
    "password = os.getenv(\"DATABASE_PASSWORD\")\n",
    "host = os.getenv(\"DATABASE_HOST\")\n",
    "port = os.getenv(\"DATABASE_PORT\")\n",
    "\n",
    "# データベースに接続\n",
    "conn = psycopg2.connect(\n",
    "        host=host,\n",
    "        database=dbname,\n",
    "        user=user,\n",
    "        password=password,\n",
    "        port=port\n",
    ")\n",
    "\n",
    "# カーソルを作成\n",
    "cur = conn.cursor()\n",
    "\n",
    "# list_idのタイプ変更\n",
    "# sql = \"\"\"\n",
    "# ALTER TABLE results\n",
    "# ALTER COLUMN list_id TYPE TEXT\n",
    "# \"\"\"\n",
    "# cur.execute(sql)\n",
    "# conn.commit()\n",
    "\n",
    "\n",
    "# テーブルからデータを取得\n",
    "cur.execute(\"SELECT * FROM results\")\n",
    "rows = cur.fetchall()\n",
    "\n",
    "# 結果を表示\n",
    "for row in rows:\n",
    "    print(row)\n",
    "\n",
    "# カーソルと接続を閉じる\n",
    "cur.close()\n",
    "conn.close()\n"
   ]
  },
  {
   "cell_type": "code",
   "execution_count": null,
   "metadata": {},
   "outputs": [],
   "source": []
  },
  {
   "cell_type": "code",
   "execution_count": 11,
   "metadata": {},
   "outputs": [
    {
     "name": "stdout",
     "output_type": "stream",
     "text": [
      "('db_id', 'integer')\n",
      "('list_id', 'text')\n",
      "('theme', 'text')\n",
      "('id', 'integer')\n",
      "('song', 'text')\n",
      "('album', 'text')\n",
      "('rank', 'integer')\n",
      "('ip_address', 'text')\n",
      "('timestamp', 'timestamp without time zone')\n",
      "('count_compare', 'integer')\n"
     ]
    }
   ],
   "source": [
    "\n",
    "conn = psycopg2.connect(\n",
    "    dbname=\"mydb\",\n",
    "    user=\"myuser\",\n",
    "    password=\"mypassword\",\n",
    "    host=\"localhost\",\n",
    "    port=\"5432\"\n",
    ")\n",
    "\n",
    "# カーソルを作成\n",
    "cur = conn.cursor()\n",
    "\n",
    "cur.execute(\"SELECT column_name, data_type FROM information_schema.columns WHERE table_name = 'results'\")\n",
    "\n",
    "\n",
    "# 結果取得\n",
    "rows = cur.fetchall()\n",
    "\n",
    "# 結果表示\n",
    "for row in rows:\n",
    "    print(row)\n",
    "\n",
    "# 接続クローズ\n",
    "cur.close()\n",
    "conn.close()\n"
   ]
  }
 ],
 "metadata": {
  "kernelspec": {
   "display_name": "venv",
   "language": "python",
   "name": "python3"
  },
  "language_info": {
   "codemirror_mode": {
    "name": "ipython",
    "version": 3
   },
   "file_extension": ".py",
   "mimetype": "text/x-python",
   "name": "python",
   "nbconvert_exporter": "python",
   "pygments_lexer": "ipython3",
   "version": "3.8.10"
  }
 },
 "nbformat": 4,
 "nbformat_minor": 2
}
