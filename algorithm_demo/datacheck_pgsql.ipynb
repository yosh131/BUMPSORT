{
 "cells": [
  {
   "cell_type": "markdown",
   "metadata": {},
   "source": []
  },
  {
   "cell_type": "code",
   "execution_count": 2,
   "metadata": {},
   "outputs": [
    {
     "name": "stdout",
     "output_type": "stream",
     "text": [
      "(1, '921624b317b704be862a0ad95f9eeb419b4a4d83bcb39a3a4ff21c7d17517afe', ' Sphery Randevouz で聴きたい曲', 3, 'アルエ', 'FLAME VEIN', 1, '127.0.0.1', datetime.datetime(2024, 9, 3, 21, 36, 58), 2)\n",
      "(2, '921624b317b704be862a0ad95f9eeb419b4a4d83bcb39a3a4ff21c7d17517afe', ' Sphery Randevouz で聴きたい曲', 1, 'ガラスのブルース', 'FLAME VEIN', 2, '127.0.0.1', datetime.datetime(2024, 9, 3, 21, 36, 58), 2)\n",
      "(3, '921624b317b704be862a0ad95f9eeb419b4a4d83bcb39a3a4ff21c7d17517afe', ' Sphery Randevouz で聴きたい曲', 2, 'くだらない唄', 'FLAME VEIN', 3, '127.0.0.1', datetime.datetime(2024, 9, 3, 21, 36, 58), 2)\n",
      "(4, 'b3128a9096b0d8e25928c316c88f696b7d871368cae677ef0cb0dd0d0f82b945', ' Sphery Randevouz で聴きたい曲', 2, 'くだらない唄', 'FLAME VEIN', 1, '127.0.0.1', datetime.datetime(2024, 9, 3, 21, 47, 9), 2)\n",
      "(5, 'b3128a9096b0d8e25928c316c88f696b7d871368cae677ef0cb0dd0d0f82b945', ' Sphery Randevouz で聴きたい曲', 1, 'ガラスのブルース', 'FLAME VEIN', 2, '127.0.0.1', datetime.datetime(2024, 9, 3, 21, 47, 9), 2)\n",
      "(6, 'b3128a9096b0d8e25928c316c88f696b7d871368cae677ef0cb0dd0d0f82b945', ' Sphery Randevouz で聴きたい曲', 3, 'アルエ', 'FLAME VEIN', 3, '127.0.0.1', datetime.datetime(2024, 9, 3, 21, 47, 9), 2)\n",
      "(7, '60d66a6a213004aeffd581c184c669bc56258e5972475162c658a6fd104bfdfe', ' Sphery Randevouz で聴きたい曲', 45, 'メーデー', 'orbital period', 1, '127.0.0.1', datetime.datetime(2024, 9, 3, 23, 34, 52), 2)\n",
      "(8, '60d66a6a213004aeffd581c184c669bc56258e5972475162c658a6fd104bfdfe', ' Sphery Randevouz で聴きたい曲', 59, 'flyby', 'orbital period', 2, '127.0.0.1', datetime.datetime(2024, 9, 3, 23, 34, 52), 2)\n",
      "(9, '60d66a6a213004aeffd581c184c669bc56258e5972475162c658a6fd104bfdfe', ' Sphery Randevouz で聴きたい曲', 46, '才悩人応援歌', 'orbital period', 3, '127.0.0.1', datetime.datetime(2024, 9, 3, 23, 34, 52), 2)\n",
      "(10, '6522a428d746997c425da97930628d94f381f9b07ffca42ca3ecedec324339ba', ' Sphery Randevouz で聴きたい曲', 1, 'ガラスのブルース', 'FLAME VEIN', 1, '127.0.0.1', datetime.datetime(2024, 9, 4, 0, 13, 2), 2)\n",
      "(11, '6522a428d746997c425da97930628d94f381f9b07ffca42ca3ecedec324339ba', ' Sphery Randevouz で聴きたい曲', 2, 'くだらない唄', 'FLAME VEIN', 2, '127.0.0.1', datetime.datetime(2024, 9, 4, 0, 13, 2), 2)\n",
      "(12, '6522a428d746997c425da97930628d94f381f9b07ffca42ca3ecedec324339ba', ' Sphery Randevouz で聴きたい曲', 3, 'アルエ', 'FLAME VEIN', 3, '127.0.0.1', datetime.datetime(2024, 9, 4, 0, 13, 2), 2)\n"
     ]
    }
   ],
   "source": [
    "import psycopg2\n",
    "import os\n",
    "from dotenv import load_dotenv\n",
    "\n",
    "# .envファイルを読み込み\n",
    "load_dotenv()\n",
    "\n",
    "\n",
    "\n",
    "# DB操作用の環境変数を取得\n",
    "dbname = os.getenv(\"DATABASE_NAME\")\n",
    "user = os.getenv(\"DATABASE_USER\")\n",
    "password = os.getenv(\"DATABASE_PASSWORD\")\n",
    "host = os.getenv(\"DATABASE_HOST\")\n",
    "port = os.getenv(\"DATABASE_PORT\")\n",
    "# database_url = os.getenv(\"DATABASE_EXTERNAL_URL\")\n",
    "# print(database_url)\n",
    "# データベースに接続\n",
    "\n",
    "# if database_url:\n",
    "#     print(\"ExternalServer\")\n",
    "#     conn = psycopg2.connect(database_url)\n",
    "# else:\n",
    "    # pass\n",
    "if True:\n",
    "    conn = psycopg2.connect(\n",
    "            host=host,\n",
    "            database=dbname,\n",
    "            user=user,\n",
    "            password=password,\n",
    "            port=port\n",
    "    )\n",
    "\n",
    "# カーソルを作成\n",
    "cur = conn.cursor()\n",
    "\n",
    "# list_idのタイプ変更\n",
    "# sql = \"\"\"\n",
    "# ALTER TABLE results\n",
    "# ALTER COLUMN list_id TYPE TEXT\n",
    "# \"\"\"\n",
    "# cur.execute(sql)\n",
    "# conn.commit()\n",
    "\n",
    "\n",
    "# テーブルからデータを取得\n",
    "cur.execute(\"SELECT * FROM results\")\n",
    "rows = cur.fetchall()\n",
    "\n",
    "# 結果を表示\n",
    "for row in rows:\n",
    "    print(row)\n",
    "\n",
    "# カーソルと接続を閉じる\n",
    "cur.close()\n",
    "conn.close()\n"
   ]
  },
  {
   "cell_type": "markdown",
   "metadata": {},
   "source": []
  },
  {
   "cell_type": "code",
   "execution_count": null,
   "metadata": {},
   "outputs": [],
   "source": []
  },
  {
   "cell_type": "code",
   "execution_count": 3,
   "metadata": {},
   "outputs": [
    {
     "name": "stdout",
     "output_type": "stream",
     "text": [
      "('db_id', 'integer')\n",
      "('id', 'integer')\n",
      "('rank', 'integer')\n",
      "('timestamp', 'timestamp without time zone')\n",
      "('count_compare', 'integer')\n",
      "('album', 'text')\n",
      "('list_id', 'text')\n",
      "('theme', 'text')\n",
      "('ip_address', 'text')\n",
      "('song', 'text')\n"
     ]
    }
   ],
   "source": [
    "\n",
    "if database_url:\n",
    "    conn = psycopg2.connect(database_url)\n",
    "else:\n",
    "    conn = psycopg2.connect(\n",
    "            host=host,\n",
    "            database=dbname,\n",
    "            user=user,\n",
    "            password=password,\n",
    "            port=port\n",
    "    )\n",
    "\n",
    "\n",
    "# カーソルを作成\n",
    "cur = conn.cursor()\n",
    "\n",
    "cur.execute(\"SELECT column_name, data_type FROM information_schema.columns WHERE table_name = 'results'\")\n",
    "\n",
    "\n",
    "# 結果取得\n",
    "rows = cur.fetchall()\n",
    "\n",
    "# 結果表示\n",
    "for row in rows:\n",
    "    print(row)\n",
    "\n",
    "# 接続クローズ\n",
    "cur.close()\n",
    "conn.close()\n"
   ]
  }
 ],
 "metadata": {
  "kernelspec": {
   "display_name": "venv",
   "language": "python",
   "name": "python3"
  },
  "language_info": {
   "codemirror_mode": {
    "name": "ipython",
    "version": 3
   },
   "file_extension": ".py",
   "mimetype": "text/x-python",
   "name": "python",
   "nbconvert_exporter": "python",
   "pygments_lexer": "ipython3",
   "version": "3.8.10"
  }
 },
 "nbformat": 4,
 "nbformat_minor": 2
}
